{
 "cells": [
  {
   "cell_type": "code",
   "execution_count": 2,
   "id": "d31fe545-3ead-4158-bd02-38d5fad88a8f",
   "metadata": {},
   "outputs": [],
   "source": [
    "from bs4 import BeautifulSoup"
   ]
  },
  {
   "cell_type": "code",
   "execution_count": 3,
   "id": "7145243f-9f19-4c4e-bbc7-f33b7bd7c19f",
   "metadata": {},
   "outputs": [],
   "source": [
    "import requests"
   ]
  },
  {
   "cell_type": "code",
   "execution_count": 4,
   "id": "0d794fae-a7e3-4796-aee5-74176bbd80e3",
   "metadata": {},
   "outputs": [],
   "source": [
    "url = \"https://en.wikipedia.org/wiki/List_of_Indian_Premier_League_seasons_and_results\""
   ]
  },
  {
   "cell_type": "code",
   "execution_count": 5,
   "id": "f01cb682-b062-48a3-97f2-517fbf3c9580",
   "metadata": {},
   "outputs": [],
   "source": [
    "page = requests.get(url)"
   ]
  },
  {
   "cell_type": "code",
   "execution_count": 6,
   "id": "25c252e9-a6c9-4079-9d52-85fd37af3e36",
   "metadata": {},
   "outputs": [],
   "source": [
    "Soup = BeautifulSoup(page.text,'html')"
   ]
  },
  {
   "cell_type": "code",
   "execution_count": 46,
   "id": "b0e81de7-ae8a-4be6-ae74-dbc46931272c",
   "metadata": {},
   "outputs": [
    {
     "data": {
      "text/plain": [
       "[<h2 class=\"vector-pinnable-header-label\">Contents</h2>,\n",
       " <h1 class=\"firstHeading mw-first-heading\" id=\"firstHeading\"><span class=\"mw-page-title-main\">List of Indian Premier League seasons and results</span></h1>,\n",
       " <h2 id=\"Tournament_seasons_and_results\">Tournament seasons and results</h2>,\n",
       " <h3 id=\"Overall_season_results\">Overall season results</h3>,\n",
       " <h3 id=\"Overall_team_results\">Overall team results</h3>,\n",
       " <h3 id=\"Additional_team_statistics\">Additional team statistics</h3>,\n",
       " <h2 id=\"See_also\">See also</h2>,\n",
       " <h2 id=\"Notes\">Notes</h2>,\n",
       " <h2 id=\"References\">References</h2>,\n",
       " <h2 id=\"External_links\">External links</h2>]"
      ]
     },
     "execution_count": 46,
     "metadata": {},
     "output_type": "execute_result"
    }
   ],
   "source": [
    "Soup.find_all(['h2','h1','h3'])"
   ]
  },
  {
   "cell_type": "code",
   "execution_count": 7,
   "id": "7344009c-75ef-4c4f-a155-81c859487019",
   "metadata": {},
   "outputs": [
    {
     "name": "stdout",
     "output_type": "stream",
     "text": [
      "[<p class=\"mw-empty-elt\">\n",
      "</p>, <p>The <a href=\"/wiki/Indian_Premier_League\" title=\"Indian Premier League\">Indian Premier League</a> (IPL) is a domestic, annual <a href=\"/wiki/Twenty20\" title=\"Twenty20\">Twenty20</a> <a href=\"/wiki/Cricket\" title=\"Cricket\">cricket</a> tournament played in India,<sup class=\"reference\" id=\"cite_ref-India_Today_BCCI_IPL_3-0\"><a href=\"#cite_note-India_Today_BCCI_IPL-3\"><span class=\"cite-bracket\">[</span>3<span class=\"cite-bracket\">]</span></a></sup><sup class=\"reference\" id=\"cite_ref-Guardian_4-0\"><a href=\"#cite_note-Guardian-4\"><span class=\"cite-bracket\">[</span>4<span class=\"cite-bracket\">]</span></a></sup> organized by the <a href=\"/wiki/Indian_Premier_League#Administration\" title=\"Indian Premier League\">IPL Governing Council</a>, under the aegis of the <a href=\"/wiki/Board_of_Control_for_Cricket_in_India\" title=\"Board of Control for Cricket in India\">Board of Control for Cricket in India</a> (BCCI).<sup class=\"reference\" id=\"cite_ref-Tribune_IPL_GC_5-0\"><a href=\"#cite_note-Tribune_IPL_GC-5\"><span class=\"cite-bracket\">[</span>5<span class=\"cite-bracket\">]</span></a></sup><sup class=\"reference\" id=\"cite_ref-Hindu_6-0\"><a href=\"#cite_note-Hindu-6\"><span class=\"cite-bracket\">[</span>6<span class=\"cite-bracket\">]</span></a></sup> It is the most watched <a href=\"/wiki/Twenty20\" title=\"Twenty20\">Twenty20</a> <a href=\"/wiki/Tournament\" title=\"Tournament\">tournament</a> and the second-best-paying<sup class=\"reference\" id=\"cite_ref-7\"><a href=\"#cite_note-7\"><span class=\"cite-bracket\">[</span>a<span class=\"cite-bracket\">]</span></a></sup> sporting league globally.<sup class=\"reference\" id=\"cite_ref-Guardian3_8-0\"><a href=\"#cite_note-Guardian3-8\"><span class=\"cite-bracket\">[</span>7<span class=\"cite-bracket\">]</span></a></sup><sup class=\"reference\" id=\"cite_ref-IB_Times_3_9-0\"><a href=\"#cite_note-IB_Times_3-9\"><span class=\"cite-bracket\">[</span>8<span class=\"cite-bracket\">]</span></a></sup><sup class=\"reference\" id=\"cite_ref-Express_Tribune_10-0\"><a href=\"#cite_note-Express_Tribune-10\"><span class=\"cite-bracket\">[</span>9<span class=\"cite-bracket\">]</span></a></sup>\n",
      "</p>, <p>IPL was established in 2008<sup class=\"reference\" id=\"cite_ref-Hindu_6-1\"><a href=\"#cite_note-Hindu-6\"><span class=\"cite-bracket\">[</span>6<span class=\"cite-bracket\">]</span></a></sup> and currently consists of ten teams in ten cities across <a href=\"/wiki/India\" title=\"India\">India</a>. The <a href=\"/wiki/2008_Indian_Premier_League\" title=\"2008 Indian Premier League\">inaugural IPL season</a> was won by <a href=\"/wiki/Rajasthan_Royals\" title=\"Rajasthan Royals\">Rajasthan Royals</a>.<sup class=\"reference\" id=\"cite_ref-Toi1_11-0\"><a href=\"#cite_note-Toi1-11\"><span class=\"cite-bracket\">[</span>10<span class=\"cite-bracket\">]</span></a></sup> As of 2024<sup class=\"plainlinks noexcerpt noprint asof-tag update\" style=\"display:none;\"><a class=\"external text\" href=\"https://en.wikipedia.org/w/index.php?title=List_of_Indian_Premier_League_seasons_and_results&amp;action=edit\">[update]</a></sup>, there have been seventeen seasons of the IPL tournament.<sup class=\"reference\" id=\"cite_ref-IPL_seasons_12-0\"><a href=\"#cite_note-IPL_seasons-12\"><span class=\"cite-bracket\">[</span>11<span class=\"cite-bracket\">]</span></a></sup><sup class=\"reference\" id=\"cite_ref-IPL_teams_and_seasons_13-0\"><a href=\"#cite_note-IPL_teams_and_seasons-13\"><span class=\"cite-bracket\">[</span>12<span class=\"cite-bracket\">]</span></a></sup>\n",
      "</p>, <p>Up until 2021, the IPL tournament involved each team playing every other team twice in a <a href=\"/wiki/Season_(sports)#Regular_(home_and_away)_season\" title=\"Season (sports)\">home-and-away</a>, double <a href=\"/wiki/Round-robin_tournament\" title=\"Round-robin tournament\">round-robin</a> format.<sup class=\"reference\" id=\"cite_ref-Indian_Express_IPL_Fixture_14-0\"><a href=\"#cite_note-Indian_Express_IPL_Fixture-14\"><span class=\"cite-bracket\">[</span>13<span class=\"cite-bracket\">]</span></a></sup><sup class=\"reference\" id=\"cite_ref-15\"><a href=\"#cite_note-15\"><span class=\"cite-bracket\">[</span>14<span class=\"cite-bracket\">]</span></a></sup> From 2022, the ten teams were divided into two groups of five. A random draw was used to determine the groups and who plays whom across the groups once and twice. In the group stage, each team plays 14 games facing the other four teams in their group two times each (one home and one away game), four teams in the other group once, and the remaining team two times.<sup class=\"reference\" id=\"cite_ref-16\"><a href=\"#cite_note-16\"><span class=\"cite-bracket\">[</span>15<span class=\"cite-bracket\">]</span></a></sup> At the conclusion of the double round-robin league, on the basis of aggregate points, the top four teams qualify for the <a href=\"/wiki/Playoffs\" title=\"Playoffs\">playoffs</a>.<sup class=\"reference\" id=\"cite_ref-IBTimes3_17-0\"><a href=\"#cite_note-IBTimes3-17\"><span class=\"cite-bracket\">[</span>16<span class=\"cite-bracket\">]</span></a></sup><sup class=\"reference\" id=\"cite_ref-IPL_2016_Playoff_Scenarios_18-0\"><a href=\"#cite_note-IPL_2016_Playoff_Scenarios-18\"><span class=\"cite-bracket\">[</span>17<span class=\"cite-bracket\">]</span></a></sup> In this stage, the top two teams compete with each other (in a match titled \"Qualifier 1\"), as do the remaining two teams (in a match titled \"Eliminator\").<sup class=\"reference\" id=\"cite_ref-Express_Qualifier_19-0\"><a href=\"#cite_note-Express_Qualifier-19\"><span class=\"cite-bracket\">[</span>18<span class=\"cite-bracket\">]</span></a></sup> While the winner of Qualifier 1 directly qualifies for the final match, the losing team gets another chance to qualify for the final match by playing the winning team of the Eliminator match; this match is titled Qualifier 2.<sup class=\"reference\" id=\"cite_ref-Indian_Express_IPL_Fixture_14-1\"><a href=\"#cite_note-Indian_Express_IPL_Fixture-14\"><span class=\"cite-bracket\">[</span>13<span class=\"cite-bracket\">]</span></a></sup><sup class=\"reference\" id=\"cite_ref-Express_Qualifier_19-1\"><a href=\"#cite_note-Express_Qualifier-19\"><span class=\"cite-bracket\">[</span>18<span class=\"cite-bracket\">]</span></a></sup> The winner of this subsequent Qualifier 2 match moves onto the final match.<sup class=\"reference\" id=\"cite_ref-Express_Qualifier_19-2\"><a href=\"#cite_note-Express_Qualifier-19\"><span class=\"cite-bracket\">[</span>18<span class=\"cite-bracket\">]</span></a></sup> The team that wins the final match is crowned the Indian Premier League champion.<sup class=\"reference\" id=\"cite_ref-Express_Qualifier_19-3\"><a href=\"#cite_note-Express_Qualifier-19\"><span class=\"cite-bracket\">[</span>18<span class=\"cite-bracket\">]</span></a></sup>\n",
      "</p>, <p>Altogether, thirteen teams have played in the past ten seasons of the IPL tournament.<sup class=\"reference\" id=\"cite_ref-IPL_2017_season_squads_20-0\"><a href=\"#cite_note-IPL_2017_season_squads-20\"><span class=\"cite-bracket\">[</span>19<span class=\"cite-bracket\">]</span></a></sup><sup class=\"reference\" id=\"cite_ref-TOI_BCCI_IPL_background_21-0\"><a href=\"#cite_note-TOI_BCCI_IPL_background-21\"><span class=\"cite-bracket\">[</span>20<span class=\"cite-bracket\">]</span></a></sup><sup class=\"reference\" id=\"cite_ref-ESPN_Pune_News_22-0\"><a href=\"#cite_note-ESPN_Pune_News-22\"><span class=\"cite-bracket\">[</span>21<span class=\"cite-bracket\">]</span></a></sup> Of these, three teams are no longer a part of the tournament.<sup class=\"reference\" id=\"cite_ref-TOI_8_Teams_23-0\"><a href=\"#cite_note-TOI_8_Teams-23\"><span class=\"cite-bracket\">[</span>22<span class=\"cite-bracket\">]</span></a></sup> In 2011, BCCI terminated the <a href=\"/wiki/Franchising\" title=\"Franchising\">franchise</a> of <a href=\"/wiki/Kochi_Tuskers_Kerala\" title=\"Kochi Tuskers Kerala\">Kochi Tuskers Kerala</a> for contractual breach.<sup class=\"reference\" id=\"cite_ref-ESPN_kochi_news_24-0\"><a href=\"#cite_note-ESPN_kochi_news-24\"><span class=\"cite-bracket\">[</span>23<span class=\"cite-bracket\">]</span></a></sup> Similarly, BCCI terminated the franchise of <a href=\"/wiki/Deccan_Chargers\" title=\"Deccan Chargers\">Deccan Chargers</a> in 2012 for backing off from its commitments.<sup class=\"reference\" id=\"cite_ref-ESPN_Deccan_News_25-0\"><a href=\"#cite_note-ESPN_Deccan_News-25\"><span class=\"cite-bracket\">[</span>24<span class=\"cite-bracket\">]</span></a></sup> In 2013, <a href=\"/wiki/Pune_Warriors_India\" title=\"Pune Warriors India\">Pune Warriors India</a> exited IPL after it had a franchise valuation disagreement with BCCI.<sup class=\"reference\" id=\"cite_ref-ESPN_Pune_News_22-1\"><a href=\"#cite_note-ESPN_Pune_News-22\"><span class=\"cite-bracket\">[</span>21<span class=\"cite-bracket\">]</span></a></sup> <a href=\"/wiki/Chennai_Super_Kings\" title=\"Chennai Super Kings\">Chennai Super Kings</a> and Rajasthan Royals were suspended in 2016 &amp; 2017 following a <a href=\"/wiki/2013_Indian_Premier_League_spot-fixing_and_betting_case\" title=\"2013 Indian Premier League spot-fixing and betting case\">betting controversy</a>. However, in July 2017, <a href=\"/wiki/Board_of_Control_for_Cricket_in_India\" title=\"Board of Control for Cricket in India\">BCCI</a> announced that both <a href=\"/wiki/Chennai_Super_Kings\" title=\"Chennai Super Kings\">Chennai Super Kings</a> and <a href=\"/wiki/Rajasthan_Royals\" title=\"Rajasthan Royals\">Rajasthan Royals</a> would be allowed back into the <a href=\"/wiki/Indian_Premier_League\" title=\"Indian Premier League\">IPL</a> competition from the <a href=\"/wiki/2018_Indian_Premier_League\" title=\"2018 Indian Premier League\">2018 season</a>.<sup class=\"reference\" id=\"cite_ref-Hindustan_Times2_26-0\"><a href=\"#cite_note-Hindustan_Times2-26\"><span class=\"cite-bracket\">[</span>25<span class=\"cite-bracket\">]</span></a></sup><sup class=\"reference\" id=\"cite_ref-BBC_27-0\"><a href=\"#cite_note-BBC-27\"><span class=\"cite-bracket\">[</span>26<span class=\"cite-bracket\">]</span></a></sup><sup class=\"reference\" id=\"cite_ref-IPL_2021_schedule_and_results_28-0\"><a href=\"#cite_note-IPL_2021_schedule_and_results-28\"><span class=\"cite-bracket\">[</span>27<span class=\"cite-bracket\">]</span></a></sup><sup class=\"reference\" id=\"cite_ref-2018_IPL_Final_scorecard,_venue_and_MVP_details_29-0\"><a href=\"#cite_note-2018_IPL_Final_scorecard,_venue_and_MVP_details-29\"><span class=\"cite-bracket\">[</span>28<span class=\"cite-bracket\">]</span></a></sup><sup class=\"reference\" id=\"cite_ref-2017_IPL_Final_scorecard,_venue_and_MVP_details_30-0\"><a href=\"#cite_note-2017_IPL_Final_scorecard,_venue_and_MVP_details-30\"><span class=\"cite-bracket\">[</span>29<span class=\"cite-bracket\">]</span></a></sup><sup class=\"reference\" id=\"cite_ref-India_Today_IPL_winners_31-0\"><a href=\"#cite_note-India_Today_IPL_winners-31\"><span class=\"cite-bracket\">[</span>30<span class=\"cite-bracket\">]</span></a></sup>\n",
      "</p>, <p><a href=\"/wiki/Chennai_Super_Kings\" title=\"Chennai Super Kings\">Chennai Super Kings</a> and <a href=\"/wiki/Mumbai_Indians\" title=\"Mumbai Indians\">Mumbai Indians</a> have won five titles each while <a href=\"/wiki/Kolkata_Knight_Riders\" title=\"Kolkata Knight Riders\">Kolkata Knight Riders</a> have won three titles. <a href=\"/wiki/Gujarat_Titans\" title=\"Gujarat Titans\">Gujarat Titans</a>, <a href=\"/wiki/Sunrisers_Hyderabad\" title=\"Sunrisers Hyderabad\">Sunrisers Hyderabad</a>, <a href=\"/wiki/Rajasthan_Royals\" title=\"Rajasthan Royals\">Rajasthan Royals</a>, and former team <a href=\"/wiki/Deccan_Chargers\" title=\"Deccan Chargers\">Deccan Chargers</a> have won a title each.<sup class=\"reference\" id=\"cite_ref-IPL_2021_schedule_and_results_28-1\"><a href=\"#cite_note-IPL_2021_schedule_and_results-28\"><span class=\"cite-bracket\">[</span>27<span class=\"cite-bracket\">]</span></a></sup><sup class=\"reference\" id=\"cite_ref-India_Today_IPL_winners_31-1\"><a href=\"#cite_note-India_Today_IPL_winners-31\"><span class=\"cite-bracket\">[</span>30<span class=\"cite-bracket\">]</span></a></sup><sup class=\"reference\" id=\"cite_ref-TOI_BCCI_IPL_background_21-1\"><a href=\"#cite_note-TOI_BCCI_IPL_background-21\"><span class=\"cite-bracket\">[</span>20<span class=\"cite-bracket\">]</span></a></sup>\n",
      "</p>, <p><small>*No longer exists.</small>\n",
      "</p>]\n"
     ]
    }
   ],
   "source": [
    "paragraph =Soup.find_all('p')\n",
    "print(paragraph)"
   ]
  },
  {
   "cell_type": "code",
   "execution_count": 43,
   "id": "c01aa38c-0c8d-44ba-b293-de33a9fb6bab",
   "metadata": {},
   "outputs": [
    {
     "name": "stdout",
     "output_type": "stream",
     "text": [
      "\n",
      "The Indian Premier League (IPL) is a domestic, annual Twenty20 cricket tournament played in India,[3][4] organized by the IPL Governing Council, under the aegis of the Board of Control for Cricket in India (BCCI).[5][6] It is the most watched Twenty20 tournament and the second-best-paying[a] sporting league globally.[7][8][9]\n",
      "IPL was established in 2008[6] and currently consists of ten teams in ten cities across India. The inaugural IPL season was won by Rajasthan Royals.[10] As of 2024[update], there have been seventeen seasons of the IPL tournament.[11][12]\n",
      "Up until 2021, the IPL tournament involved each team playing every other team twice in a home-and-away, double round-robin format.[13][14] From 2022, the ten teams were divided into two groups of five. A random draw was used to determine the groups and who plays whom across the groups once and twice. In the group stage, each team plays 14 games facing the other four teams in their group two times each (one home and one away game), four teams in the other group once, and the remaining team two times.[15] At the conclusion of the double round-robin league, on the basis of aggregate points, the top four teams qualify for the playoffs.[16][17] In this stage, the top two teams compete with each other (in a match titled \"Qualifier 1\"), as do the remaining two teams (in a match titled \"Eliminator\").[18] While the winner of Qualifier 1 directly qualifies for the final match, the losing team gets another chance to qualify for the final match by playing the winning team of the Eliminator match; this match is titled Qualifier 2.[13][18] The winner of this subsequent Qualifier 2 match moves onto the final match.[18] The team that wins the final match is crowned the Indian Premier League champion.[18]\n",
      "Altogether, thirteen teams have played in the past ten seasons of the IPL tournament.[19][20][21] Of these, three teams are no longer a part of the tournament.[22] In 2011, BCCI terminated the franchise of Kochi Tuskers Kerala for contractual breach.[23] Similarly, BCCI terminated the franchise of Deccan Chargers in 2012 for backing off from its commitments.[24] In 2013, Pune Warriors India exited IPL after it had a franchise valuation disagreement with BCCI.[21] Chennai Super Kings and Rajasthan Royals were suspended in 2016 & 2017 following a betting controversy. However, in July 2017, BCCI announced that both Chennai Super Kings and Rajasthan Royals would be allowed back into the IPL competition from the 2018 season.[25][26][27][28][29][30]\n",
      "Chennai Super Kings and Mumbai Indians have won five titles each while Kolkata Knight Riders have won three titles. Gujarat Titans, Sunrisers Hyderabad, Rajasthan Royals, and former team Deccan Chargers have won a title each.[27][30][20]\n",
      "*No longer exists.\n"
     ]
    }
   ],
   "source": [
    "for i in paragraph:\n",
    "    print(i.get_text().strip())"
   ]
  },
  {
   "cell_type": "code",
   "execution_count": null,
   "id": "8feeab71-73be-40f5-b807-94da5dfac02b",
   "metadata": {},
   "outputs": [],
   "source": []
  }
 ],
 "metadata": {
  "kernelspec": {
   "display_name": "Python 3 (ipykernel)",
   "language": "python",
   "name": "python3"
  },
  "language_info": {
   "codemirror_mode": {
    "name": "ipython",
    "version": 3
   },
   "file_extension": ".py",
   "mimetype": "text/x-python",
   "name": "python",
   "nbconvert_exporter": "python",
   "pygments_lexer": "ipython3",
   "version": "3.11.7"
  }
 },
 "nbformat": 4,
 "nbformat_minor": 5
}
