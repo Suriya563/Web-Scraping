{
 "cells": [
  {
   "cell_type": "code",
   "execution_count": 2,
   "id": "d31fe545-3ead-4158-bd02-38d5fad88a8f",
   "metadata": {},
   "outputs": [],
   "source": [
    "from bs4 import BeautifulSoup"
   ]
  },
  {
   "cell_type": "code",
   "execution_count": 3,
   "id": "7145243f-9f19-4c4e-bbc7-f33b7bd7c19f",
   "metadata": {},
   "outputs": [],
   "source": [
    "import requests"
   ]
  },
  {
   "cell_type": "code",
   "execution_count": 4,
   "id": "0d794fae-a7e3-4796-aee5-74176bbd80e3",
   "metadata": {},
   "outputs": [],
   "source": [
    "url = \"https://en.wikipedia.org/wiki/List_of_Indian_Premier_League_seasons_and_results\""
   ]
  },
  {
   "cell_type": "code",
   "execution_count": 5,
   "id": "f01cb682-b062-48a3-97f2-517fbf3c9580",
   "metadata": {},
   "outputs": [],
   "source": [
    "page = requests.get(url)"
   ]
  },
  {
   "cell_type": "code",
   "execution_count": 6,
   "id": "25c252e9-a6c9-4079-9d52-85fd37af3e36",
   "metadata": {},
   "outputs": [],
   "source": [
    "Soup = BeautifulSoup(page.text,'html')"
   ]
  },
  {
   "cell_type": "code",
   "execution_count": 46,
   "id": "b0e81de7-ae8a-4be6-ae74-dbc46931272c",
   "metadata": {},
   "outputs": [
    {
     "data": {
      "text/plain": [
       "[<h2 class=\"vector-pinnable-header-label\">Contents</h2>,\n",
       " <h1 class=\"firstHeading mw-first-heading\" id=\"firstHeading\"><span class=\"mw-page-title-main\">List of Indian Premier League seasons and results</span></h1>,\n",
       " <h2 id=\"Tournament_seasons_and_results\">Tournament seasons and results</h2>,\n",
       " <h3 id=\"Overall_season_results\">Overall season results</h3>,\n",
       " <h3 id=\"Overall_team_results\">Overall team results</h3>,\n",
       " <h3 id=\"Additional_team_statistics\">Additional team statistics</h3>,\n",
       " <h2 id=\"See_also\">See also</h2>,\n",
       " <h2 id=\"Notes\">Notes</h2>,\n",
       " <h2 id=\"References\">References</h2>,\n",
       " <h2 id=\"External_links\">External links</h2>]"
      ]
     },
     "execution_count": 46,
     "metadata": {},
     "output_type": "execute_result"
    }
   ],
   "source": [
    "Soup.find_all(['h2','h1','h3'])"
   ]
  },
  {
   "cell_type": "code",
   "execution_count": 42,
   "id": "7344009c-75ef-4c4f-a155-81c859487019",
   "metadata": {},
   "outputs": [],
   "source": [
    "paragraph =Soup.find_all('p')"
   ]
  },
  {
   "cell_type": "code",
   "execution_count": 43,
   "id": "c01aa38c-0c8d-44ba-b293-de33a9fb6bab",
   "metadata": {},
   "outputs": [
    {
     "name": "stdout",
     "output_type": "stream",
     "text": [
      "\n",
      "The Indian Premier League (IPL) is a domestic, annual Twenty20 cricket tournament played in India,[3][4] organized by the IPL Governing Council, under the aegis of the Board of Control for Cricket in India (BCCI).[5][6] It is the most watched Twenty20 tournament and the second-best-paying[a] sporting league globally.[7][8][9]\n",
      "IPL was established in 2008[6] and currently consists of ten teams in ten cities across India. The inaugural IPL season was won by Rajasthan Royals.[10] As of 2024[update], there have been seventeen seasons of the IPL tournament.[11][12]\n",
      "Up until 2021, the IPL tournament involved each team playing every other team twice in a home-and-away, double round-robin format.[13][14] From 2022, the ten teams were divided into two groups of five. A random draw was used to determine the groups and who plays whom across the groups once and twice. In the group stage, each team plays 14 games facing the other four teams in their group two times each (one home and one away game), four teams in the other group once, and the remaining team two times.[15] At the conclusion of the double round-robin league, on the basis of aggregate points, the top four teams qualify for the playoffs.[16][17] In this stage, the top two teams compete with each other (in a match titled \"Qualifier 1\"), as do the remaining two teams (in a match titled \"Eliminator\").[18] While the winner of Qualifier 1 directly qualifies for the final match, the losing team gets another chance to qualify for the final match by playing the winning team of the Eliminator match; this match is titled Qualifier 2.[13][18] The winner of this subsequent Qualifier 2 match moves onto the final match.[18] The team that wins the final match is crowned the Indian Premier League champion.[18]\n",
      "Altogether, thirteen teams have played in the past ten seasons of the IPL tournament.[19][20][21] Of these, three teams are no longer a part of the tournament.[22] In 2011, BCCI terminated the franchise of Kochi Tuskers Kerala for contractual breach.[23] Similarly, BCCI terminated the franchise of Deccan Chargers in 2012 for backing off from its commitments.[24] In 2013, Pune Warriors India exited IPL after it had a franchise valuation disagreement with BCCI.[21] Chennai Super Kings and Rajasthan Royals were suspended in 2016 & 2017 following a betting controversy. However, in July 2017, BCCI announced that both Chennai Super Kings and Rajasthan Royals would be allowed back into the IPL competition from the 2018 season.[25][26][27][28][29][30]\n",
      "Chennai Super Kings and Mumbai Indians have won five titles each while Kolkata Knight Riders have won three titles. Gujarat Titans, Sunrisers Hyderabad, Rajasthan Royals, and former team Deccan Chargers have won a title each.[27][30][20]\n",
      "*No longer exists.\n"
     ]
    }
   ],
   "source": [
    "for i in paragraph:\n",
    "    print(i.get_text().strip())"
   ]
  },
  {
   "cell_type": "code",
   "execution_count": null,
   "id": "8feeab71-73be-40f5-b807-94da5dfac02b",
   "metadata": {},
   "outputs": [],
   "source": []
  }
 ],
 "metadata": {
  "kernelspec": {
   "display_name": "Python 3 (ipykernel)",
   "language": "python",
   "name": "python3"
  },
  "language_info": {
   "codemirror_mode": {
    "name": "ipython",
    "version": 3
   },
   "file_extension": ".py",
   "mimetype": "text/x-python",
   "name": "python",
   "nbconvert_exporter": "python",
   "pygments_lexer": "ipython3",
   "version": "3.11.7"
  }
 },
 "nbformat": 4,
 "nbformat_minor": 5
}
